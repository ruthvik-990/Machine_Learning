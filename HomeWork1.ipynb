{
  "nbformat": 4,
  "nbformat_minor": 0,
  "metadata": {
    "colab": {
      "provenance": [],
      "authorship_tag": "ABX9TyOv0qbW3j2V8V8glJ1quB8S",
      "include_colab_link": true
    },
    "kernelspec": {
      "name": "python3",
      "display_name": "Python 3"
    },
    "language_info": {
      "name": "python"
    }
  },
  "cells": [
    {
      "cell_type": "markdown",
      "metadata": {
        "id": "view-in-github",
        "colab_type": "text"
      },
      "source": [
        "<a href=\"https://colab.research.google.com/github/ruthvik-990/Machine_Learning/blob/main/HomeWork1.ipynb\" target=\"_parent\"><img src=\"https://colab.research.google.com/assets/colab-badge.svg\" alt=\"Open In Colab\"/></a>"
      ]
    },
    {
      "cell_type": "code",
      "execution_count": 13,
      "metadata": {
        "colab": {
          "base_uri": "https://localhost:8080/"
        },
        "id": "QhlJzmdg-d-W",
        "outputId": "39cfbffc-e13d-4967-8150-c5769d0194d1"
      },
      "outputs": [
        {
          "output_type": "stream",
          "name": "stdout",
          "text": [
            "Correlation using user defined function = 0.9363636363636365\n",
            "Cosine Similarity using user defined function = 0.9666666666666667\n",
            "Euclidean Distance using user defined function = 1.4142135623730951\n",
            "Correlation Coefficient using pre-defined function: 0.9363636363636361\n",
            "Cosine Similarity using pre-defined function: 0.9666666666666667\n",
            "Euclidean Distance using pre-defined function: 1.4142135623730951\n"
          ]
        }
      ],
      "source": [
        "import numpy as np\n",
        "from math import sqrt\n",
        "\n",
        "#  Input sample vector data\n",
        "vector_1 = np.array([1, 2, 4, 3, 0, 0, 0])\n",
        "vector_2 = np.array([1, 2, 3, 4, 0, 0, 0])\n",
        "\n",
        "#  Function to get Mean\n",
        "def getMean(vector):\n",
        "    mean=0\n",
        "    for i in vector:\n",
        "        mean+=i\n",
        "    if len(vector)!=0:\n",
        "        return mean/len(vector)\n",
        "#  Funtion to compute Dot product for vectors\n",
        "def dotProduct(vector1, vector2):\n",
        "    if len(vector1)!=len(vector2):\n",
        "        raise ValueError(\"Vectors must be having same length\")\n",
        "    dotProduct=0\n",
        "    for i in range(len(vector1)):\n",
        "        dotProduct+=vector1[i]*vector2[i]\n",
        "    return dotProduct\n",
        "#  Calculate the norm of vector\n",
        "def getNorm(vector):\n",
        "    sum = 0\n",
        "    for i in vector:\n",
        "        sum+=i**2\n",
        "    return sqrt(sum)\n",
        "\n",
        "# Calculate Correlation\n",
        "\n",
        "numerator = 0\n",
        "denominator1 = 0\n",
        "denominator2 = 0\n",
        "mean1 = getMean(vector_1)\n",
        "mean2 = getMean(vector_2)\n",
        "for i in range(len(vector_1)):\n",
        "    numerator+=(vector_1[i]-mean1)*(vector_2[i]-mean2)\n",
        "    denominator1+=((vector_1[i]-mean1)**2)\n",
        "    denominator2+=((vector_2[i]-mean2)**2)\n",
        "\n",
        "if denominator1+denominator2!=0:\n",
        "    print(\"Correlation using user defined function = {}\".format(numerator/(sqrt(denominator1)*sqrt(denominator2))))\n",
        "\n",
        "# Calculate Cosine Similarity\n",
        "\n",
        "print(\"Cosine Similarity using user defined function = {}\".format(dotProduct(vector_1,vector_2)/(getNorm(vector_1)*getNorm(vector_2))))\n",
        "\n",
        "# Calculate Euclidean Distance\n",
        "\n",
        "difference_vector = vector_1-vector_2\n",
        "\n",
        "print(\"Euclidean Distance using user defined function = {}\".format(getNorm(difference_vector)))\n",
        "# ------------------------------------------------------------------------------\n",
        "\n",
        "\n",
        "# Calculate correlation coefficient using numpy pre-defined funtion\n",
        "correlation_coefficient = np.corrcoef(vector_1, vector_2)[0, 1]\n",
        "\n",
        "# Calculate cosine similarity using numpy pre-defined funtion\n",
        "dot_product = np.dot(vector_1, vector_2)\n",
        "norm1 = np.linalg.norm(vector_1)\n",
        "norm2 = np.linalg.norm(vector_2)\n",
        "cosine_similarity = dot_product / (norm1 * norm2)\n",
        "\n",
        "# Calculate Euclidean distance using numpy pre-defined funtion\n",
        "euclidean_distance = np.linalg.norm(vector_1 - vector_2)\n",
        "\n",
        "print(\"Correlation Coefficient using pre-defined function: {}\".format(correlation_coefficient))\n",
        "print(\"Cosine Similarity using pre-defined function: {}\".format(cosine_similarity))\n",
        "print(\"Euclidean Distance using pre-defined function: {}\".format(euclidean_distance))\n",
        "\n",
        "# -------------------------------------------------------------------------------"
      ]
    },
    {
      "cell_type": "code",
      "source": [
        "#@title BONUS QUESTION\n",
        "\n",
        "import numpy as np\n",
        "from scipy.spatial.distance import correlation, cosine, euclidean\n",
        "\n",
        "# Sample Input data\n",
        "vector_1 = np.array([1, 2, 4, 3, 0, 0, 0])\n",
        "vector_2 = np.array([1, 2, 3, 4, 0, 0, 0])\n",
        "\n",
        "# Calculate correlation using SciPy\n",
        "correlation_coefficient = 1 - correlation(vector_1, vector_2)\n",
        "\n",
        "# Calculate cosine similarity using SciPy (Note: Cosine function calculates cosine distance,\n",
        "#  1 - cosine distance gives similarity)\n",
        "cosine_similarity = 1 - cosine(vector_1, vector_2)\n",
        "\n",
        "# Calculate Euclidean distance using SciPy function\n",
        "euclidean_distance = euclidean(vector_1, vector_2)\n",
        "\n",
        "print(\"Correlation Coefficient using SciPy function: {}\".format(correlation_coefficient))\n",
        "print(\"Cosine Similarity using SciPy function: {}\".format(cosine_similarity))\n",
        "print(\"Euclidean Distance using SciPy function: {}\".format(euclidean_distance))\n",
        "\n",
        "# --------------------------------------------------------------------------------------------\n",
        "\n",
        "import pandas as pd\n",
        "\n",
        "# Create a DataFrame with sample input data\n",
        "dataFrame = pd.DataFrame({'data1': [1, 2, 4, 3, 0, 0, 0], 'data2': [1, 2, 3, 4, 0, 0, 0]})\n",
        "\n",
        "# Calculate correlation using Pandas function\n",
        "correlation_matrix = dataFrame.corr()\n",
        "correlation_coefficient = correlation_matrix.loc['data1', 'data2']\n",
        "\n",
        "print(\"Correlation Coefficient using Pandas: {}\".format(correlation_coefficient))\n",
        "\n",
        "# Since Pandas doesn't provide pre-defined functions to calculate cosine similarity and\n",
        "# Euclidean distance we can convert our data into numpy arrays and then use the methods in\n",
        "# numpy to calculate these values."
      ],
      "metadata": {
        "colab": {
          "base_uri": "https://localhost:8080/"
        },
        "id": "11_Au3Ro-vSE",
        "outputId": "77448714-aea8-4a69-8bfd-03299bbfdbbe"
      },
      "execution_count": 14,
      "outputs": [
        {
          "output_type": "stream",
          "name": "stdout",
          "text": [
            "Correlation Coefficient using SciPy function: 0.9363636363636364\n",
            "Cosine Similarity using SciPy function: 0.9666666666666668\n",
            "Euclidean Distance using SciPy function: 1.4142135623730951\n",
            "Correlation Coefficient using Pandas: 0.9363636363636363\n"
          ]
        }
      ]
    }
  ]
}